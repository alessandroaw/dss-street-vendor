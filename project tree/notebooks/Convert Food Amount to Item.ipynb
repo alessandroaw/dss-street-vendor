{
 "cells": [
  {
   "cell_type": "code",
   "execution_count": 3,
   "metadata": {},
   "outputs": [],
   "source": [
    "import requests\n",
    "import json\n",
    "import pandas as pd\n",
    "import numpy as np"
   ]
  },
  {
   "cell_type": "code",
   "execution_count": 2,
   "metadata": {},
   "outputs": [],
   "source": [
    "resp = requests.get(\"http://localhost:3000/API/item\")\n",
    "bahan = resp.json()"
   ]
  },
  {
   "cell_type": "code",
   "execution_count": 9,
   "metadata": {},
   "outputs": [
    {
     "data": {
      "text/plain": [
       "[{'_id': '5de4b3c254a45b134f9b9985',\n",
       "  'ingredientName': 'Daging',\n",
       "  'quantity': 10,\n",
       "  'metric': 'gram'},\n",
       " {'_id': '5de4b3c254a45b134f9b9984',\n",
       "  'ingredientName': 'Bawang',\n",
       "  'quantity': 10,\n",
       "  'metric': 'gram'}]"
      ]
     },
     "execution_count": 9,
     "metadata": {},
     "output_type": "execute_result"
    }
   ],
   "source": [
    "bahan[0]['ingredients']"
   ]
  },
  {
   "cell_type": "code",
   "execution_count": 10,
   "metadata": {},
   "outputs": [
    {
     "data": {
      "text/plain": [
       "[{'_id': '5de4b3c254a45b134f9b9983',\n",
       "  'idStore': '5de4b2922792b4111c3195e7',\n",
       "  'itemName': 'Bakso Goreng',\n",
       "  'ingredients': [{'_id': '5de4b3c254a45b134f9b9985',\n",
       "    'ingredientName': 'Daging',\n",
       "    'quantity': 10,\n",
       "    'metric': 'gram'},\n",
       "   {'_id': '5de4b3c254a45b134f9b9984',\n",
       "    'ingredientName': 'Bawang',\n",
       "    'quantity': 10,\n",
       "    'metric': 'gram'}],\n",
       "  '__v': 0},\n",
       " {'_id': '5de4b3c254a45b134f9b9986',\n",
       "  'idStore': '5de4b2922792b4111c3195e7',\n",
       "  'itemName': 'Mie Ayam',\n",
       "  'ingredients': [{'_id': '5de4b3c254a45b134f9b9988',\n",
       "    'ingredientName': 'Mie',\n",
       "    'quantity': 100,\n",
       "    'metric': 'gram'},\n",
       "   {'_id': '5de4b3c254a45b134f9b9987',\n",
       "    'ingredientName': 'Kuah',\n",
       "    'quantity': 10,\n",
       "    'metric': 'liter'}],\n",
       "  '__v': 0},\n",
       " {'_id': '5de4b3ea54a45b134f9b9989',\n",
       "  'idStore': '5de4b2922792b4111c3195e7',\n",
       "  'itemName': 'Bakso Keju',\n",
       "  'ingredients': [{'_id': '5de4b3ea54a45b134f9b998b',\n",
       "    'ingredientName': 'Daging',\n",
       "    'quantity': 10,\n",
       "    'metric': 'gram'},\n",
       "   {'_id': '5de4b3ea54a45b134f9b998a',\n",
       "    'ingredientName': 'Keju',\n",
       "    'quantity': 10,\n",
       "    'metric': 'gram'}],\n",
       "  '__v': 0},\n",
       " {'_id': '5de4b3ea54a45b134f9b998c',\n",
       "  'idStore': '5de4b2922792b4111c3195e7',\n",
       "  'itemName': 'Angin',\n",
       "  'ingredients': [],\n",
       "  '__v': 0}]"
      ]
     },
     "execution_count": 10,
     "metadata": {},
     "output_type": "execute_result"
    }
   ],
   "source": [
    "bahan"
   ]
  },
  {
   "cell_type": "code",
   "execution_count": null,
   "metadata": {},
   "outputs": [],
   "source": []
  }
 ],
 "metadata": {
  "kernelspec": {
   "display_name": "Python 3",
   "language": "python",
   "name": "python3"
  },
  "language_info": {
   "codemirror_mode": {
    "name": "ipython",
    "version": 3
   },
   "file_extension": ".py",
   "mimetype": "text/x-python",
   "name": "python",
   "nbconvert_exporter": "python",
   "pygments_lexer": "ipython3",
   "version": "3.7.4"
  }
 },
 "nbformat": 4,
 "nbformat_minor": 2
}

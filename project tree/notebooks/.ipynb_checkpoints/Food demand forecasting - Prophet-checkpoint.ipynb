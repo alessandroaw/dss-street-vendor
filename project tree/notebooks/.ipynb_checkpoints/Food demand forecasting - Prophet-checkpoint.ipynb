{
 "cells": [
  {
   "cell_type": "code",
   "execution_count": 1,
   "metadata": {},
   "outputs": [
    {
     "name": "stderr",
     "output_type": "stream",
     "text": [
      "ERROR:fbprophet:Importing plotly failed. Interactive plots will not work.\n"
     ]
    }
   ],
   "source": [
    "# Import library and dataset\n",
    "import pandas as pd\n",
    "import numpy as np\n",
    "import matplotlib.pyplot as plt\n",
    "%matplotlib inline\n",
    "\n",
    "from fbprophet import Prophet\n",
    "plt.style.use('fivethirtyeight')\n",
    "\n",
    "import warnings\n",
    "warnings.filterwarnings('ignore')\n",
    "\n",
    "import pickle"
   ]
  },
  {
   "cell_type": "code",
   "execution_count": 2,
   "metadata": {},
   "outputs": [],
   "source": [
    "raw = pd.read_csv('dss_mock_1.csv')"
   ]
  },
  {
   "cell_type": "code",
   "execution_count": 3,
   "metadata": {},
   "outputs": [
    {
     "data": {
      "text/html": [
       "<div>\n",
       "<style scoped>\n",
       "    .dataframe tbody tr th:only-of-type {\n",
       "        vertical-align: middle;\n",
       "    }\n",
       "\n",
       "    .dataframe tbody tr th {\n",
       "        vertical-align: top;\n",
       "    }\n",
       "\n",
       "    .dataframe thead th {\n",
       "        text-align: right;\n",
       "    }\n",
       "</style>\n",
       "<table border=\"1\" class=\"dataframe\">\n",
       "  <thead>\n",
       "    <tr style=\"text-align: right;\">\n",
       "      <th></th>\n",
       "      <th>date</th>\n",
       "      <th>Bakso Goreng</th>\n",
       "      <th>Mie Ayam</th>\n",
       "      <th>Bakso Keju</th>\n",
       "      <th>is_holiday</th>\n",
       "    </tr>\n",
       "  </thead>\n",
       "  <tbody>\n",
       "    <tr>\n",
       "      <td>count</td>\n",
       "      <td>1.000000e+03</td>\n",
       "      <td>1000.0000</td>\n",
       "      <td>1000.000000</td>\n",
       "      <td>1000.000000</td>\n",
       "      <td>1000.000000</td>\n",
       "    </tr>\n",
       "    <tr>\n",
       "      <td>mean</td>\n",
       "      <td>1.571316e+09</td>\n",
       "      <td>587.6090</td>\n",
       "      <td>343.696000</td>\n",
       "      <td>331.703000</td>\n",
       "      <td>0.188000</td>\n",
       "    </tr>\n",
       "    <tr>\n",
       "      <td>std</td>\n",
       "      <td>2.286453e+06</td>\n",
       "      <td>24.6876</td>\n",
       "      <td>18.659415</td>\n",
       "      <td>19.067731</td>\n",
       "      <td>0.390908</td>\n",
       "    </tr>\n",
       "    <tr>\n",
       "      <td>min</td>\n",
       "      <td>1.567297e+09</td>\n",
       "      <td>496.0000</td>\n",
       "      <td>293.000000</td>\n",
       "      <td>277.000000</td>\n",
       "      <td>0.000000</td>\n",
       "    </tr>\n",
       "    <tr>\n",
       "      <td>25%</td>\n",
       "      <td>1.569300e+09</td>\n",
       "      <td>571.0000</td>\n",
       "      <td>331.000000</td>\n",
       "      <td>319.000000</td>\n",
       "      <td>0.000000</td>\n",
       "    </tr>\n",
       "    <tr>\n",
       "      <td>50%</td>\n",
       "      <td>1.571338e+09</td>\n",
       "      <td>588.0000</td>\n",
       "      <td>344.000000</td>\n",
       "      <td>332.000000</td>\n",
       "      <td>0.000000</td>\n",
       "    </tr>\n",
       "    <tr>\n",
       "      <td>75%</td>\n",
       "      <td>1.573352e+09</td>\n",
       "      <td>604.0000</td>\n",
       "      <td>356.000000</td>\n",
       "      <td>344.000000</td>\n",
       "      <td>0.000000</td>\n",
       "    </tr>\n",
       "    <tr>\n",
       "      <td>max</td>\n",
       "      <td>1.575155e+09</td>\n",
       "      <td>672.0000</td>\n",
       "      <td>401.000000</td>\n",
       "      <td>396.000000</td>\n",
       "      <td>1.000000</td>\n",
       "    </tr>\n",
       "  </tbody>\n",
       "</table>\n",
       "</div>"
      ],
      "text/plain": [
       "               date  Bakso Goreng     Mie Ayam   Bakso Keju   is_holiday\n",
       "count  1.000000e+03     1000.0000  1000.000000  1000.000000  1000.000000\n",
       "mean   1.571316e+09      587.6090   343.696000   331.703000     0.188000\n",
       "std    2.286453e+06       24.6876    18.659415    19.067731     0.390908\n",
       "min    1.567297e+09      496.0000   293.000000   277.000000     0.000000\n",
       "25%    1.569300e+09      571.0000   331.000000   319.000000     0.000000\n",
       "50%    1.571338e+09      588.0000   344.000000   332.000000     0.000000\n",
       "75%    1.573352e+09      604.0000   356.000000   344.000000     0.000000\n",
       "max    1.575155e+09      672.0000   401.000000   396.000000     1.000000"
      ]
     },
     "execution_count": 3,
     "metadata": {},
     "output_type": "execute_result"
    }
   ],
   "source": [
    "raw.describe()"
   ]
  },
  {
   "cell_type": "code",
   "execution_count": 4,
   "metadata": {},
   "outputs": [],
   "source": [
    "# cleaning dataset\n",
    "# convert 'epoch' date into appropriate datetime\n",
    "import datetime\n",
    "tf = raw.copy()\n",
    "tf['date_conv'] = raw['date'].apply(lambda x : datetime.datetime.fromtimestamp(x).strftime(\"%Y-%m-%d\"))"
   ]
  },
  {
   "cell_type": "code",
   "execution_count": 5,
   "metadata": {},
   "outputs": [],
   "source": [
    "tf.drop(['date','is_holiday'], axis=1, inplace=True)"
   ]
  },
  {
   "cell_type": "code",
   "execution_count": 6,
   "metadata": {},
   "outputs": [],
   "source": [
    "tf['date_conv'] = pd.DatetimeIndex(tf['date_conv'])\n",
    "tf = tf.sort_values(by='date_conv').reset_index(drop=True)"
   ]
  },
  {
   "cell_type": "code",
   "execution_count": 7,
   "metadata": {},
   "outputs": [
    {
     "data": {
      "text/plain": [
       "Bakso Goreng             int64\n",
       "Mie Ayam                 int64\n",
       "Bakso Keju               int64\n",
       "date_conv       datetime64[ns]\n",
       "dtype: object"
      ]
     },
     "execution_count": 7,
     "metadata": {},
     "output_type": "execute_result"
    }
   ],
   "source": [
    "tf.dtypes"
   ]
  },
  {
   "cell_type": "code",
   "execution_count": 8,
   "metadata": {},
   "outputs": [
    {
     "data": {
      "text/html": [
       "<div>\n",
       "<style scoped>\n",
       "    .dataframe tbody tr th:only-of-type {\n",
       "        vertical-align: middle;\n",
       "    }\n",
       "\n",
       "    .dataframe tbody tr th {\n",
       "        vertical-align: top;\n",
       "    }\n",
       "\n",
       "    .dataframe thead th {\n",
       "        text-align: right;\n",
       "    }\n",
       "</style>\n",
       "<table border=\"1\" class=\"dataframe\">\n",
       "  <thead>\n",
       "    <tr style=\"text-align: right;\">\n",
       "      <th></th>\n",
       "      <th>Bakso Goreng</th>\n",
       "      <th>Mie Ayam</th>\n",
       "      <th>Bakso Keju</th>\n",
       "      <th>date_conv</th>\n",
       "    </tr>\n",
       "  </thead>\n",
       "  <tbody>\n",
       "    <tr>\n",
       "      <td>995</td>\n",
       "      <td>600</td>\n",
       "      <td>346</td>\n",
       "      <td>329</td>\n",
       "      <td>2019-11-30</td>\n",
       "    </tr>\n",
       "    <tr>\n",
       "      <td>996</td>\n",
       "      <td>570</td>\n",
       "      <td>357</td>\n",
       "      <td>362</td>\n",
       "      <td>2019-11-30</td>\n",
       "    </tr>\n",
       "    <tr>\n",
       "      <td>997</td>\n",
       "      <td>583</td>\n",
       "      <td>355</td>\n",
       "      <td>305</td>\n",
       "      <td>2019-12-01</td>\n",
       "    </tr>\n",
       "    <tr>\n",
       "      <td>998</td>\n",
       "      <td>570</td>\n",
       "      <td>350</td>\n",
       "      <td>333</td>\n",
       "      <td>2019-12-01</td>\n",
       "    </tr>\n",
       "    <tr>\n",
       "      <td>999</td>\n",
       "      <td>565</td>\n",
       "      <td>335</td>\n",
       "      <td>312</td>\n",
       "      <td>2019-12-01</td>\n",
       "    </tr>\n",
       "  </tbody>\n",
       "</table>\n",
       "</div>"
      ],
      "text/plain": [
       "     Bakso Goreng  Mie Ayam  Bakso Keju  date_conv\n",
       "995           600       346         329 2019-11-30\n",
       "996           570       357         362 2019-11-30\n",
       "997           583       355         305 2019-12-01\n",
       "998           570       350         333 2019-12-01\n",
       "999           565       335         312 2019-12-01"
      ]
     },
     "execution_count": 8,
     "metadata": {},
     "output_type": "execute_result"
    }
   ],
   "source": [
    "tf.tail()"
   ]
  },
  {
   "cell_type": "code",
   "execution_count": 9,
   "metadata": {},
   "outputs": [],
   "source": [
    "cols = list(tf.columns.values)\n",
    "cols.remove('date_conv')"
   ]
  },
  {
   "cell_type": "code",
   "execution_count": 10,
   "metadata": {},
   "outputs": [],
   "source": [
    "###############################################################################"
   ]
  },
  {
   "cell_type": "code",
   "execution_count": 11,
   "metadata": {},
   "outputs": [
    {
     "name": "stderr",
     "output_type": "stream",
     "text": [
      "INFO:numexpr.utils:NumExpr defaulting to 4 threads.\n",
      "INFO:fbprophet:Disabling yearly seasonality. Run prophet with yearly_seasonality=True to override this.\n",
      "INFO:fbprophet:Disabling daily seasonality. Run prophet with daily_seasonality=True to override this.\n",
      "INFO:fbprophet:Disabling yearly seasonality. Run prophet with yearly_seasonality=True to override this.\n",
      "INFO:fbprophet:Disabling daily seasonality. Run prophet with daily_seasonality=True to override this.\n",
      "INFO:fbprophet:Disabling yearly seasonality. Run prophet with yearly_seasonality=True to override this.\n",
      "INFO:fbprophet:Disabling daily seasonality. Run prophet with daily_seasonality=True to override this.\n"
     ]
    }
   ],
   "source": [
    "# Model fit\n",
    "for col in cols:\n",
    "    subtf = tf[['date_conv',col]]\n",
    "    subtf = subtf.rename(columns={'date_conv':'ds',col:'y'})\n",
    "    model = Prophet(interval_width=0.95)\n",
    "    model.fit(subtf)\n",
    "    pickle.dump(model, open('model'+'_'+col+'.pickle','wb'))"
   ]
  },
  {
   "cell_type": "code",
   "execution_count": 12,
   "metadata": {},
   "outputs": [],
   "source": [
    "# Model predict\n",
    "results = []\n",
    "for col in cols:\n",
    "    model = pickle.load(open('model'+'_'+col+'.pickle', 'rb'))\n",
    "    f_df = model.make_future_dataframe(periods=30, freq='D')\n",
    "    result = model.predict(f_df)\n",
    "    result_tf = result[['ds','yhat']].rename(columns={'yhat':col})\n",
    "    results.append(result_tf)\n",
    "tf.predict = pd.concat(results, axis=1)"
   ]
  },
  {
   "cell_type": "code",
   "execution_count": 13,
   "metadata": {},
   "outputs": [],
   "source": [
    "# Cleaning predict table\n",
    "tf.predict = tf.predict.iloc[:,  ~tf.predict.columns.duplicated()]\n",
    "tf.predict.drop_duplicates(subset='ds', keep=\"first\", inplace=True)"
   ]
  },
  {
   "cell_type": "code",
   "execution_count": 14,
   "metadata": {},
   "outputs": [],
   "source": [
    "tf.predict = tf.predict.reset_index(drop=True).rename(columns={'ds':'date'})"
   ]
  },
  {
   "cell_type": "code",
   "execution_count": 15,
   "metadata": {},
   "outputs": [],
   "source": [
    "for col in cols:\n",
    "        tf.predict[col] = tf.predict[col].apply(np.floor).astype(int)"
   ]
  },
  {
   "cell_type": "code",
   "execution_count": 16,
   "metadata": {},
   "outputs": [
    {
     "data": {
      "text/html": [
       "<div>\n",
       "<style scoped>\n",
       "    .dataframe tbody tr th:only-of-type {\n",
       "        vertical-align: middle;\n",
       "    }\n",
       "\n",
       "    .dataframe tbody tr th {\n",
       "        vertical-align: top;\n",
       "    }\n",
       "\n",
       "    .dataframe thead th {\n",
       "        text-align: right;\n",
       "    }\n",
       "</style>\n",
       "<table border=\"1\" class=\"dataframe\">\n",
       "  <thead>\n",
       "    <tr style=\"text-align: right;\">\n",
       "      <th></th>\n",
       "      <th>date</th>\n",
       "      <th>Bakso Goreng</th>\n",
       "      <th>Mie Ayam</th>\n",
       "      <th>Bakso Keju</th>\n",
       "    </tr>\n",
       "  </thead>\n",
       "  <tbody>\n",
       "    <tr>\n",
       "      <td>0</td>\n",
       "      <td>2019-09-01</td>\n",
       "      <td>585</td>\n",
       "      <td>344</td>\n",
       "      <td>331</td>\n",
       "    </tr>\n",
       "    <tr>\n",
       "      <td>1</td>\n",
       "      <td>2019-09-02</td>\n",
       "      <td>589</td>\n",
       "      <td>346</td>\n",
       "      <td>331</td>\n",
       "    </tr>\n",
       "    <tr>\n",
       "      <td>2</td>\n",
       "      <td>2019-09-03</td>\n",
       "      <td>586</td>\n",
       "      <td>347</td>\n",
       "      <td>333</td>\n",
       "    </tr>\n",
       "    <tr>\n",
       "      <td>3</td>\n",
       "      <td>2019-09-04</td>\n",
       "      <td>586</td>\n",
       "      <td>345</td>\n",
       "      <td>334</td>\n",
       "    </tr>\n",
       "    <tr>\n",
       "      <td>4</td>\n",
       "      <td>2019-09-05</td>\n",
       "      <td>590</td>\n",
       "      <td>345</td>\n",
       "      <td>331</td>\n",
       "    </tr>\n",
       "  </tbody>\n",
       "</table>\n",
       "</div>"
      ],
      "text/plain": [
       "        date  Bakso Goreng  Mie Ayam  Bakso Keju\n",
       "0 2019-09-01           585       344         331\n",
       "1 2019-09-02           589       346         331\n",
       "2 2019-09-03           586       347         333\n",
       "3 2019-09-04           586       345         334\n",
       "4 2019-09-05           590       345         331"
      ]
     },
     "execution_count": 16,
     "metadata": {},
     "output_type": "execute_result"
    }
   ],
   "source": [
    "tf.predict.head()"
   ]
  },
  {
   "cell_type": "code",
   "execution_count": 17,
   "metadata": {},
   "outputs": [],
   "source": [
    "today = (datetime.datetime.today() - datetime.timedelta(days=1)).strftime(\"%Y-%m-%d\")"
   ]
  },
  {
   "cell_type": "code",
   "execution_count": 18,
   "metadata": {},
   "outputs": [],
   "source": [
    "twodays = (datetime.datetime.today() + datetime.timedelta(days=1)).strftime(\"%Y-%m-%d\")"
   ]
  },
  {
   "cell_type": "code",
   "execution_count": 19,
   "metadata": {},
   "outputs": [
    {
     "data": {
      "text/plain": [
       "583"
      ]
     },
     "execution_count": 19,
     "metadata": {},
     "output_type": "execute_result"
    }
   ],
   "source": [
    "tf_revised = tf.predict[(tf.predict['date']>today) & (tf.predict['date']<twodays)].reset_index(drop=True)\n",
    "tf_revised['Bakso Goreng'].values[0]"
   ]
  },
  {
   "cell_type": "code",
   "execution_count": 20,
   "metadata": {},
   "outputs": [],
   "source": [
    "import requests"
   ]
  },
  {
   "cell_type": "code",
   "execution_count": 21,
   "metadata": {},
   "outputs": [],
   "source": [
    "resp = requests.get(\"http://localhost:3000/API/item\")\n",
    "bahan = resp.json()"
   ]
  },
  {
   "cell_type": "code",
   "execution_count": 22,
   "metadata": {},
   "outputs": [
    {
     "data": {
      "text/plain": [
       "[{'_id': '5de4b3c254a45b134f9b9983',\n",
       "  'idStore': '5de4b2922792b4111c3195e7',\n",
       "  'itemName': 'Bakso Goreng',\n",
       "  'ingredients': [{'_id': '5de4b3c254a45b134f9b9985',\n",
       "    'ingredientName': 'Daging',\n",
       "    'quantity': 10,\n",
       "    'metric': 'gram'},\n",
       "   {'_id': '5de4b3c254a45b134f9b9984',\n",
       "    'ingredientName': 'Bawang',\n",
       "    'quantity': 10,\n",
       "    'metric': 'gram'}],\n",
       "  '__v': 0},\n",
       " {'_id': '5de4b3c254a45b134f9b9986',\n",
       "  'idStore': '5de4b2922792b4111c3195e7',\n",
       "  'itemName': 'Mie Ayam',\n",
       "  'ingredients': [{'_id': '5de4b3c254a45b134f9b9988',\n",
       "    'ingredientName': 'Mie',\n",
       "    'quantity': 100,\n",
       "    'metric': 'gram'},\n",
       "   {'_id': '5de4b3c254a45b134f9b9987',\n",
       "    'ingredientName': 'Kuah',\n",
       "    'quantity': 10,\n",
       "    'metric': 'liter'}],\n",
       "  '__v': 0},\n",
       " {'_id': '5de4b3ea54a45b134f9b9989',\n",
       "  'idStore': '5de4b2922792b4111c3195e7',\n",
       "  'itemName': 'Bakso Keju',\n",
       "  'ingredients': [{'_id': '5de4b3ea54a45b134f9b998b',\n",
       "    'ingredientName': 'Daging',\n",
       "    'quantity': 10,\n",
       "    'metric': 'gram'},\n",
       "   {'_id': '5de4b3ea54a45b134f9b998a',\n",
       "    'ingredientName': 'Keju',\n",
       "    'quantity': 10,\n",
       "    'metric': 'gram'}],\n",
       "  '__v': 0},\n",
       " {'_id': '5de4b3ea54a45b134f9b998c',\n",
       "  'idStore': '5de4b2922792b4111c3195e7',\n",
       "  'itemName': 'Angin',\n",
       "  'ingredients': [],\n",
       "  '__v': 0},\n",
       " {'_id': '5df09331ae6aca1f28f1eaa0',\n",
       "  'idStore': '5de4b2922792b4111c3195e7',\n",
       "  'itemName': 'Bakso Keju',\n",
       "  'ingredients': [{'_id': '5df09331ae6aca1f28f1eaa2',\n",
       "    'ingredientName': 'Daging',\n",
       "    'quantity': 10,\n",
       "    'metric': 'gram'},\n",
       "   {'_id': '5df09331ae6aca1f28f1eaa1',\n",
       "    'ingredientName': 'Keju',\n",
       "    'quantity': 10,\n",
       "    'metric': 'gram'}],\n",
       "  '__v': 0},\n",
       " {'_id': '5df09331ae6aca1f28f1eaa3',\n",
       "  'idStore': '5de4b2922792b4111c3195e7',\n",
       "  'itemName': 'Angin',\n",
       "  'ingredients': [],\n",
       "  '__v': 0},\n",
       " {'_id': '5df09363ae6aca1f28f1eaa4',\n",
       "  'idStore': '5de4b2922792b4111c3195e7',\n",
       "  'itemName': 'Bakso Keju 4',\n",
       "  'ingredients': [{'_id': '5df09363ae6aca1f28f1eaa6',\n",
       "    'ingredientName': 'Daging',\n",
       "    'quantity': 10,\n",
       "    'metric': 'gram'},\n",
       "   {'_id': '5df09363ae6aca1f28f1eaa5',\n",
       "    'ingredientName': 'Keju',\n",
       "    'quantity': 10,\n",
       "    'metric': 'gram'}],\n",
       "  '__v': 0},\n",
       " {'_id': '5df09363ae6aca1f28f1eaa7',\n",
       "  'idStore': '5de4b2922792b4111c3195e7',\n",
       "  'itemName': 'Angin 4',\n",
       "  'ingredients': [],\n",
       "  '__v': 0},\n",
       " {'_id': '5df09366ae6aca1f28f1eaa8',\n",
       "  'idStore': '5de4b2922792b4111c3195e7',\n",
       "  'itemName': 'Bakso Keju 4',\n",
       "  'ingredients': [{'_id': '5df09366ae6aca1f28f1eaaa',\n",
       "    'ingredientName': 'Daging',\n",
       "    'quantity': 10,\n",
       "    'metric': 'gram'},\n",
       "   {'_id': '5df09366ae6aca1f28f1eaa9',\n",
       "    'ingredientName': 'Keju',\n",
       "    'quantity': 10,\n",
       "    'metric': 'gram'}],\n",
       "  '__v': 0},\n",
       " {'_id': '5df09366ae6aca1f28f1eaab',\n",
       "  'idStore': '5de4b2922792b4111c3195e7',\n",
       "  'itemName': 'Angin 4',\n",
       "  'ingredients': [],\n",
       "  '__v': 0}]"
      ]
     },
     "execution_count": 22,
     "metadata": {},
     "output_type": "execute_result"
    }
   ],
   "source": [
    "bahan"
   ]
  },
  {
   "cell_type": "code",
   "execution_count": 34,
   "metadata": {},
   "outputs": [
    {
     "name": "stdout",
     "output_type": "stream",
     "text": [
      "[{'foodName': 'Bakso Goreng', 'ingredients': [{'ingredientName': 'Daging', 'quantity': 5830, 'metric': 'gram'}, {'ingredientName': 'Bawang', 'quantity': 5830, 'metric': 'gram'}]}]  iterasi ke- 1\n",
      "[{'foodName': 'Mie Ayam', 'ingredients': [{'ingredientName': 'Mie', 'quantity': 34200, 'metric': 'gram'}, {'ingredientName': 'Kuah', 'quantity': 3420, 'metric': 'liter'}]}, {'foodName': 'Mie Ayam', 'ingredients': [{'ingredientName': 'Mie', 'quantity': 34200, 'metric': 'gram'}, {'ingredientName': 'Kuah', 'quantity': 3420, 'metric': 'liter'}]}]  iterasi ke- 2\n",
      "[{'foodName': 'Bakso Keju', 'ingredients': [{'ingredientName': 'Daging', 'quantity': 3290, 'metric': 'gram'}, {'ingredientName': 'Keju', 'quantity': 3290, 'metric': 'gram'}, {'ingredientName': 'Daging', 'quantity': 3290, 'metric': 'gram'}, {'ingredientName': 'Keju', 'quantity': 3290, 'metric': 'gram'}]}, {'foodName': 'Bakso Keju', 'ingredients': [{'ingredientName': 'Daging', 'quantity': 3290, 'metric': 'gram'}, {'ingredientName': 'Keju', 'quantity': 3290, 'metric': 'gram'}, {'ingredientName': 'Daging', 'quantity': 3290, 'metric': 'gram'}, {'ingredientName': 'Keju', 'quantity': 3290, 'metric': 'gram'}]}, {'foodName': 'Bakso Keju', 'ingredients': [{'ingredientName': 'Daging', 'quantity': 3290, 'metric': 'gram'}, {'ingredientName': 'Keju', 'quantity': 3290, 'metric': 'gram'}, {'ingredientName': 'Daging', 'quantity': 3290, 'metric': 'gram'}, {'ingredientName': 'Keju', 'quantity': 3290, 'metric': 'gram'}]}]  iterasi ke- 3\n"
     ]
    }
   ],
   "source": [
    "menu_bahan = []\n",
    "menu = {}\n",
    "i = 1\n",
    "for col in cols:\n",
    "    menu['foodName'] = col\n",
    "    menu['ingredients'] = []\n",
    "    for x in bahan:\n",
    "        if x['itemName'] == col:\n",
    "            les = []\n",
    "            for a in x['ingredients']:\n",
    "                les = {'ingredientName':a['ingredientName'],'quantity':a['quantity']*tf_revised[col].values[0], 'metric':a['metric']}\n",
    "                menu['ingredients'].append(les)\n",
    "    menu_bahan.append(menu)\n",
    "    print(' iterasi ke-',i,menu_bahan)\n",
    "    i = i+1"
   ]
  },
  {
   "cell_type": "code",
   "execution_count": null,
   "metadata": {},
   "outputs": [],
   "source": [
    "def "
   ]
  },
  {
   "cell_type": "code",
   "execution_count": 30,
   "metadata": {},
   "outputs": [
    {
     "data": {
      "text/plain": [
       "[{'foodName': 'Bakso Keju',\n",
       "  'ingredients': [{'ingredientName': 'Daging',\n",
       "    'quantity': 3290,\n",
       "    'metric': 'gram'},\n",
       "   {'ingredientName': 'Keju', 'quantity': 3290, 'metric': 'gram'},\n",
       "   {'ingredientName': 'Daging', 'quantity': 3290, 'metric': 'gram'},\n",
       "   {'ingredientName': 'Keju', 'quantity': 3290, 'metric': 'gram'}]},\n",
       " {'foodName': 'Bakso Keju',\n",
       "  'ingredients': [{'ingredientName': 'Daging',\n",
       "    'quantity': 3290,\n",
       "    'metric': 'gram'},\n",
       "   {'ingredientName': 'Keju', 'quantity': 3290, 'metric': 'gram'},\n",
       "   {'ingredientName': 'Daging', 'quantity': 3290, 'metric': 'gram'},\n",
       "   {'ingredientName': 'Keju', 'quantity': 3290, 'metric': 'gram'}]},\n",
       " {'foodName': 'Bakso Keju',\n",
       "  'ingredients': [{'ingredientName': 'Daging',\n",
       "    'quantity': 3290,\n",
       "    'metric': 'gram'},\n",
       "   {'ingredientName': 'Keju', 'quantity': 3290, 'metric': 'gram'},\n",
       "   {'ingredientName': 'Daging', 'quantity': 3290, 'metric': 'gram'},\n",
       "   {'ingredientName': 'Keju', 'quantity': 3290, 'metric': 'gram'}]}]"
      ]
     },
     "execution_count": 30,
     "metadata": {},
     "output_type": "execute_result"
    }
   ],
   "source": [
    "menu_bahan"
   ]
  },
  {
   "cell_type": "code",
   "execution_count": null,
   "metadata": {},
   "outputs": [],
   "source": []
  }
 ],
 "metadata": {
  "kernelspec": {
   "display_name": "Python 3",
   "language": "python",
   "name": "python3"
  },
  "language_info": {
   "codemirror_mode": {
    "name": "ipython",
    "version": 3
   },
   "file_extension": ".py",
   "mimetype": "text/x-python",
   "name": "python",
   "nbconvert_exporter": "python",
   "pygments_lexer": "ipython3",
   "version": "3.7.4"
  }
 },
 "nbformat": 4,
 "nbformat_minor": 2
}

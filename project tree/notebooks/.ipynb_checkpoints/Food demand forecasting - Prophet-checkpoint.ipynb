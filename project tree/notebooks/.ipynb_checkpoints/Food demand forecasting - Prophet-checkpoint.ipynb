{
 "cells": [
  {
   "cell_type": "code",
   "execution_count": 18,
   "metadata": {},
   "outputs": [],
   "source": [
    "# Import library and dataset\n",
    "import pandas as pd\n",
    "import numpy as np\n",
    "import matplotlib.pyplot as plt\n",
    "%matplotlib inline\n",
    "\n",
    "from fbprophet import Prophet\n",
    "plt.style.use('fivethirtyeight')\n",
    "\n",
    "import warnings\n",
    "warnings.filterwarnings('ignore')\n",
    "\n",
    "import pickle"
   ]
  },
  {
   "cell_type": "code",
   "execution_count": 19,
   "metadata": {},
   "outputs": [],
   "source": [
    "raw = pd.read_csv('dss_mock_1.csv')"
   ]
  },
  {
   "cell_type": "code",
   "execution_count": 20,
   "metadata": {},
   "outputs": [
    {
     "data": {
      "text/html": [
       "<div>\n",
       "<style scoped>\n",
       "    .dataframe tbody tr th:only-of-type {\n",
       "        vertical-align: middle;\n",
       "    }\n",
       "\n",
       "    .dataframe tbody tr th {\n",
       "        vertical-align: top;\n",
       "    }\n",
       "\n",
       "    .dataframe thead th {\n",
       "        text-align: right;\n",
       "    }\n",
       "</style>\n",
       "<table border=\"1\" class=\"dataframe\">\n",
       "  <thead>\n",
       "    <tr style=\"text-align: right;\">\n",
       "      <th></th>\n",
       "      <th>date</th>\n",
       "      <th>food_1</th>\n",
       "      <th>food_2</th>\n",
       "      <th>food_3</th>\n",
       "      <th>food_4</th>\n",
       "      <th>is_holiday</th>\n",
       "    </tr>\n",
       "  </thead>\n",
       "  <tbody>\n",
       "    <tr>\n",
       "      <th>count</th>\n",
       "      <td>1.000000e+03</td>\n",
       "      <td>1000.0000</td>\n",
       "      <td>1000.000000</td>\n",
       "      <td>1000.000000</td>\n",
       "      <td>1000.000000</td>\n",
       "      <td>1000.000000</td>\n",
       "    </tr>\n",
       "    <tr>\n",
       "      <th>mean</th>\n",
       "      <td>1.571316e+09</td>\n",
       "      <td>587.6090</td>\n",
       "      <td>343.696000</td>\n",
       "      <td>331.703000</td>\n",
       "      <td>226.048000</td>\n",
       "      <td>0.188000</td>\n",
       "    </tr>\n",
       "    <tr>\n",
       "      <th>std</th>\n",
       "      <td>2.286453e+06</td>\n",
       "      <td>24.6876</td>\n",
       "      <td>18.659415</td>\n",
       "      <td>19.067731</td>\n",
       "      <td>15.228053</td>\n",
       "      <td>0.390908</td>\n",
       "    </tr>\n",
       "    <tr>\n",
       "      <th>min</th>\n",
       "      <td>1.567297e+09</td>\n",
       "      <td>496.0000</td>\n",
       "      <td>293.000000</td>\n",
       "      <td>277.000000</td>\n",
       "      <td>181.000000</td>\n",
       "      <td>0.000000</td>\n",
       "    </tr>\n",
       "    <tr>\n",
       "      <th>25%</th>\n",
       "      <td>1.569300e+09</td>\n",
       "      <td>571.0000</td>\n",
       "      <td>331.000000</td>\n",
       "      <td>319.000000</td>\n",
       "      <td>216.000000</td>\n",
       "      <td>0.000000</td>\n",
       "    </tr>\n",
       "    <tr>\n",
       "      <th>50%</th>\n",
       "      <td>1.571338e+09</td>\n",
       "      <td>588.0000</td>\n",
       "      <td>344.000000</td>\n",
       "      <td>332.000000</td>\n",
       "      <td>226.000000</td>\n",
       "      <td>0.000000</td>\n",
       "    </tr>\n",
       "    <tr>\n",
       "      <th>75%</th>\n",
       "      <td>1.573352e+09</td>\n",
       "      <td>604.0000</td>\n",
       "      <td>356.000000</td>\n",
       "      <td>344.000000</td>\n",
       "      <td>236.000000</td>\n",
       "      <td>0.000000</td>\n",
       "    </tr>\n",
       "    <tr>\n",
       "      <th>max</th>\n",
       "      <td>1.575155e+09</td>\n",
       "      <td>672.0000</td>\n",
       "      <td>401.000000</td>\n",
       "      <td>396.000000</td>\n",
       "      <td>275.000000</td>\n",
       "      <td>1.000000</td>\n",
       "    </tr>\n",
       "  </tbody>\n",
       "</table>\n",
       "</div>"
      ],
      "text/plain": [
       "               date     food_1       food_2       food_3       food_4  \\\n",
       "count  1.000000e+03  1000.0000  1000.000000  1000.000000  1000.000000   \n",
       "mean   1.571316e+09   587.6090   343.696000   331.703000   226.048000   \n",
       "std    2.286453e+06    24.6876    18.659415    19.067731    15.228053   \n",
       "min    1.567297e+09   496.0000   293.000000   277.000000   181.000000   \n",
       "25%    1.569300e+09   571.0000   331.000000   319.000000   216.000000   \n",
       "50%    1.571338e+09   588.0000   344.000000   332.000000   226.000000   \n",
       "75%    1.573352e+09   604.0000   356.000000   344.000000   236.000000   \n",
       "max    1.575155e+09   672.0000   401.000000   396.000000   275.000000   \n",
       "\n",
       "        is_holiday  \n",
       "count  1000.000000  \n",
       "mean      0.188000  \n",
       "std       0.390908  \n",
       "min       0.000000  \n",
       "25%       0.000000  \n",
       "50%       0.000000  \n",
       "75%       0.000000  \n",
       "max       1.000000  "
      ]
     },
     "execution_count": 20,
     "metadata": {},
     "output_type": "execute_result"
    }
   ],
   "source": [
    "raw.describe()"
   ]
  },
  {
   "cell_type": "code",
   "execution_count": 21,
   "metadata": {},
   "outputs": [],
   "source": [
    "# cleaning dataset\n",
    "# convert 'epoch' date into appropriate datetime\n",
    "from datetime import datetime\n",
    "tf = raw.copy()\n",
    "tf['date_conv'] = raw['date'].apply(lambda x : datetime.fromtimestamp(x).strftime(\"%Y-%m-%d\"))"
   ]
  },
  {
   "cell_type": "code",
   "execution_count": 22,
   "metadata": {},
   "outputs": [],
   "source": [
    "tf.drop(['date','is_holiday'], axis=1, inplace=True)"
   ]
  },
  {
   "cell_type": "code",
   "execution_count": 23,
   "metadata": {},
   "outputs": [],
   "source": [
    "tf['date_conv'] = pd.DatetimeIndex(tf['date_conv'])\n",
    "tf = tf.sort_values(by='date_conv').reset_index(drop=True)"
   ]
  },
  {
   "cell_type": "code",
   "execution_count": 24,
   "metadata": {},
   "outputs": [
    {
     "data": {
      "text/plain": [
       "food_1                int64\n",
       "food_2                int64\n",
       "food_3                int64\n",
       "food_4                int64\n",
       "date_conv    datetime64[ns]\n",
       "dtype: object"
      ]
     },
     "execution_count": 24,
     "metadata": {},
     "output_type": "execute_result"
    }
   ],
   "source": [
    "tf.dtypes"
   ]
  },
  {
   "cell_type": "code",
   "execution_count": 25,
   "metadata": {},
   "outputs": [
    {
     "data": {
      "text/html": [
       "<div>\n",
       "<style scoped>\n",
       "    .dataframe tbody tr th:only-of-type {\n",
       "        vertical-align: middle;\n",
       "    }\n",
       "\n",
       "    .dataframe tbody tr th {\n",
       "        vertical-align: top;\n",
       "    }\n",
       "\n",
       "    .dataframe thead th {\n",
       "        text-align: right;\n",
       "    }\n",
       "</style>\n",
       "<table border=\"1\" class=\"dataframe\">\n",
       "  <thead>\n",
       "    <tr style=\"text-align: right;\">\n",
       "      <th></th>\n",
       "      <th>food_1</th>\n",
       "      <th>food_2</th>\n",
       "      <th>food_3</th>\n",
       "      <th>food_4</th>\n",
       "      <th>date_conv</th>\n",
       "    </tr>\n",
       "  </thead>\n",
       "  <tbody>\n",
       "    <tr>\n",
       "      <th>995</th>\n",
       "      <td>600</td>\n",
       "      <td>346</td>\n",
       "      <td>329</td>\n",
       "      <td>202</td>\n",
       "      <td>2019-11-30</td>\n",
       "    </tr>\n",
       "    <tr>\n",
       "      <th>996</th>\n",
       "      <td>570</td>\n",
       "      <td>357</td>\n",
       "      <td>362</td>\n",
       "      <td>231</td>\n",
       "      <td>2019-11-30</td>\n",
       "    </tr>\n",
       "    <tr>\n",
       "      <th>997</th>\n",
       "      <td>583</td>\n",
       "      <td>355</td>\n",
       "      <td>305</td>\n",
       "      <td>216</td>\n",
       "      <td>2019-12-01</td>\n",
       "    </tr>\n",
       "    <tr>\n",
       "      <th>998</th>\n",
       "      <td>570</td>\n",
       "      <td>350</td>\n",
       "      <td>333</td>\n",
       "      <td>218</td>\n",
       "      <td>2019-12-01</td>\n",
       "    </tr>\n",
       "    <tr>\n",
       "      <th>999</th>\n",
       "      <td>565</td>\n",
       "      <td>335</td>\n",
       "      <td>312</td>\n",
       "      <td>235</td>\n",
       "      <td>2019-12-01</td>\n",
       "    </tr>\n",
       "  </tbody>\n",
       "</table>\n",
       "</div>"
      ],
      "text/plain": [
       "     food_1  food_2  food_3  food_4  date_conv\n",
       "995     600     346     329     202 2019-11-30\n",
       "996     570     357     362     231 2019-11-30\n",
       "997     583     355     305     216 2019-12-01\n",
       "998     570     350     333     218 2019-12-01\n",
       "999     565     335     312     235 2019-12-01"
      ]
     },
     "execution_count": 25,
     "metadata": {},
     "output_type": "execute_result"
    }
   ],
   "source": [
    "tf.tail()"
   ]
  },
  {
   "cell_type": "code",
   "execution_count": 26,
   "metadata": {},
   "outputs": [],
   "source": [
    "cols = list(tf.columns.values)\n",
    "cols.remove('date_conv')"
   ]
  },
  {
   "cell_type": "code",
   "execution_count": 36,
   "metadata": {},
   "outputs": [],
   "source": [
    "###############################################################################"
   ]
  },
  {
   "cell_type": "code",
   "execution_count": 27,
   "metadata": {},
   "outputs": [
    {
     "name": "stderr",
     "output_type": "stream",
     "text": [
      "INFO:fbprophet:Disabling yearly seasonality. Run prophet with yearly_seasonality=True to override this.\n",
      "INFO:fbprophet:Disabling daily seasonality. Run prophet with daily_seasonality=True to override this.\n",
      "INFO:fbprophet:Disabling yearly seasonality. Run prophet with yearly_seasonality=True to override this.\n",
      "INFO:fbprophet:Disabling daily seasonality. Run prophet with daily_seasonality=True to override this.\n",
      "INFO:fbprophet:Disabling yearly seasonality. Run prophet with yearly_seasonality=True to override this.\n",
      "INFO:fbprophet:Disabling daily seasonality. Run prophet with daily_seasonality=True to override this.\n",
      "INFO:fbprophet:Disabling yearly seasonality. Run prophet with yearly_seasonality=True to override this.\n",
      "INFO:fbprophet:Disabling daily seasonality. Run prophet with daily_seasonality=True to override this.\n"
     ]
    }
   ],
   "source": [
    "# Model fit\n",
    "for col in cols:\n",
    "    subtf = tf[['date_conv',col]]\n",
    "    subtf = subtf.rename(columns={'date_conv':'ds',col:'y'})\n",
    "    model = Prophet(interval_width=0.95)\n",
    "    model.fit(subtf)\n",
    "    pickle.dump(model, open('model'+'_'+col+'.pickle','wb'))"
   ]
  },
  {
   "cell_type": "code",
   "execution_count": 30,
   "metadata": {},
   "outputs": [],
   "source": [
    "# Model predict\n",
    "results = []\n",
    "for col in cols:\n",
    "    model = pickle.load(open('model'+'_'+col+'.pickle', 'rb'))\n",
    "    f_df = model.make_future_dataframe(periods=7, freq='D')\n",
    "    result = model.predict(f_df)\n",
    "    result_tf = result[['ds','yhat']].rename(columns={'yhat':col})\n",
    "    results.append(result_tf)\n",
    "tf.predict = pd.concat(results, axis=1)"
   ]
  },
  {
   "cell_type": "code",
   "execution_count": 31,
   "metadata": {},
   "outputs": [],
   "source": [
    "# Cleaning predict table\n",
    "tf.predict = tf.predict.iloc[:,  ~tf.predict.columns.duplicated()]\n",
    "tf.predict.drop_duplicates(subset='ds', keep=\"first\", inplace=True)"
   ]
  },
  {
   "cell_type": "code",
   "execution_count": 32,
   "metadata": {},
   "outputs": [],
   "source": [
    "tf.predict = tf.predict.reset_index(drop=True).rename(columns={'ds':'date'})"
   ]
  },
  {
   "cell_type": "code",
   "execution_count": 33,
   "metadata": {},
   "outputs": [
    {
     "data": {
      "text/html": [
       "<div>\n",
       "<style scoped>\n",
       "    .dataframe tbody tr th:only-of-type {\n",
       "        vertical-align: middle;\n",
       "    }\n",
       "\n",
       "    .dataframe tbody tr th {\n",
       "        vertical-align: top;\n",
       "    }\n",
       "\n",
       "    .dataframe thead th {\n",
       "        text-align: right;\n",
       "    }\n",
       "</style>\n",
       "<table border=\"1\" class=\"dataframe\">\n",
       "  <thead>\n",
       "    <tr style=\"text-align: right;\">\n",
       "      <th></th>\n",
       "      <th>date</th>\n",
       "      <th>food_1</th>\n",
       "      <th>food_2</th>\n",
       "      <th>food_3</th>\n",
       "      <th>food_4</th>\n",
       "    </tr>\n",
       "  </thead>\n",
       "  <tbody>\n",
       "    <tr>\n",
       "      <th>0</th>\n",
       "      <td>2019-09-01</td>\n",
       "      <td>585.335776</td>\n",
       "      <td>344.277025</td>\n",
       "      <td>331.080837</td>\n",
       "      <td>227.395558</td>\n",
       "    </tr>\n",
       "    <tr>\n",
       "      <th>1</th>\n",
       "      <td>2019-09-02</td>\n",
       "      <td>589.249772</td>\n",
       "      <td>346.278925</td>\n",
       "      <td>331.425733</td>\n",
       "      <td>227.874056</td>\n",
       "    </tr>\n",
       "    <tr>\n",
       "      <th>2</th>\n",
       "      <td>2019-09-03</td>\n",
       "      <td>586.431597</td>\n",
       "      <td>347.116864</td>\n",
       "      <td>333.670562</td>\n",
       "      <td>228.991185</td>\n",
       "    </tr>\n",
       "    <tr>\n",
       "      <th>3</th>\n",
       "      <td>2019-09-04</td>\n",
       "      <td>586.688747</td>\n",
       "      <td>345.046687</td>\n",
       "      <td>334.757494</td>\n",
       "      <td>230.079396</td>\n",
       "    </tr>\n",
       "    <tr>\n",
       "      <th>4</th>\n",
       "      <td>2019-09-05</td>\n",
       "      <td>590.575680</td>\n",
       "      <td>345.509221</td>\n",
       "      <td>331.748964</td>\n",
       "      <td>227.484589</td>\n",
       "    </tr>\n",
       "  </tbody>\n",
       "</table>\n",
       "</div>"
      ],
      "text/plain": [
       "        date      food_1      food_2      food_3      food_4\n",
       "0 2019-09-01  585.335776  344.277025  331.080837  227.395558\n",
       "1 2019-09-02  589.249772  346.278925  331.425733  227.874056\n",
       "2 2019-09-03  586.431597  347.116864  333.670562  228.991185\n",
       "3 2019-09-04  586.688747  345.046687  334.757494  230.079396\n",
       "4 2019-09-05  590.575680  345.509221  331.748964  227.484589"
      ]
     },
     "execution_count": 33,
     "metadata": {},
     "output_type": "execute_result"
    }
   ],
   "source": [
    "tf.predict.head()"
   ]
  },
  {
   "cell_type": "code",
   "execution_count": 34,
   "metadata": {},
   "outputs": [],
   "source": [
    "tf_revised = tf.predict[(tf.predict['date']>'2019-12-01')].reset_index(drop=True)"
   ]
  },
  {
   "cell_type": "code",
   "execution_count": 35,
   "metadata": {},
   "outputs": [
    {
     "data": {
      "text/html": [
       "<div>\n",
       "<style scoped>\n",
       "    .dataframe tbody tr th:only-of-type {\n",
       "        vertical-align: middle;\n",
       "    }\n",
       "\n",
       "    .dataframe tbody tr th {\n",
       "        vertical-align: top;\n",
       "    }\n",
       "\n",
       "    .dataframe thead th {\n",
       "        text-align: right;\n",
       "    }\n",
       "</style>\n",
       "<table border=\"1\" class=\"dataframe\">\n",
       "  <thead>\n",
       "    <tr style=\"text-align: right;\">\n",
       "      <th></th>\n",
       "      <th>date</th>\n",
       "      <th>food_1</th>\n",
       "      <th>food_2</th>\n",
       "      <th>food_3</th>\n",
       "      <th>food_4</th>\n",
       "    </tr>\n",
       "  </thead>\n",
       "  <tbody>\n",
       "    <tr>\n",
       "      <th>0</th>\n",
       "      <td>2019-12-02</td>\n",
       "      <td>587.406436</td>\n",
       "      <td>343.719539</td>\n",
       "      <td>326.871273</td>\n",
       "      <td>224.092561</td>\n",
       "    </tr>\n",
       "    <tr>\n",
       "      <th>1</th>\n",
       "      <td>2019-12-03</td>\n",
       "      <td>584.361977</td>\n",
       "      <td>344.557958</td>\n",
       "      <td>329.037264</td>\n",
       "      <td>225.194545</td>\n",
       "    </tr>\n",
       "    <tr>\n",
       "      <th>2</th>\n",
       "      <td>2019-12-04</td>\n",
       "      <td>584.392843</td>\n",
       "      <td>342.488260</td>\n",
       "      <td>330.045358</td>\n",
       "      <td>226.267611</td>\n",
       "    </tr>\n",
       "    <tr>\n",
       "      <th>3</th>\n",
       "      <td>2019-12-05</td>\n",
       "      <td>588.053492</td>\n",
       "      <td>342.950819</td>\n",
       "      <td>326.957989</td>\n",
       "      <td>223.657659</td>\n",
       "    </tr>\n",
       "    <tr>\n",
       "      <th>4</th>\n",
       "      <td>2019-12-06</td>\n",
       "      <td>580.254944</td>\n",
       "      <td>341.083812</td>\n",
       "      <td>328.961963</td>\n",
       "      <td>223.115738</td>\n",
       "    </tr>\n",
       "    <tr>\n",
       "      <th>5</th>\n",
       "      <td>2019-12-07</td>\n",
       "      <td>579.914265</td>\n",
       "      <td>340.001969</td>\n",
       "      <td>331.335161</td>\n",
       "      <td>225.297214</td>\n",
       "    </tr>\n",
       "    <tr>\n",
       "      <th>6</th>\n",
       "      <td>2019-12-08</td>\n",
       "      <td>582.672191</td>\n",
       "      <td>341.520485</td>\n",
       "      <td>325.850804</td>\n",
       "      <td>222.747021</td>\n",
       "    </tr>\n",
       "  </tbody>\n",
       "</table>\n",
       "</div>"
      ],
      "text/plain": [
       "        date      food_1      food_2      food_3      food_4\n",
       "0 2019-12-02  587.406436  343.719539  326.871273  224.092561\n",
       "1 2019-12-03  584.361977  344.557958  329.037264  225.194545\n",
       "2 2019-12-04  584.392843  342.488260  330.045358  226.267611\n",
       "3 2019-12-05  588.053492  342.950819  326.957989  223.657659\n",
       "4 2019-12-06  580.254944  341.083812  328.961963  223.115738\n",
       "5 2019-12-07  579.914265  340.001969  331.335161  225.297214\n",
       "6 2019-12-08  582.672191  341.520485  325.850804  222.747021"
      ]
     },
     "execution_count": 35,
     "metadata": {},
     "output_type": "execute_result"
    }
   ],
   "source": [
    "tf_revised"
   ]
  },
  {
   "cell_type": "code",
   "execution_count": null,
   "metadata": {},
   "outputs": [],
   "source": []
  }
 ],
 "metadata": {
  "kernelspec": {
   "display_name": "Python 3",
   "language": "python",
   "name": "python3"
  },
  "language_info": {
   "codemirror_mode": {
    "name": "ipython",
    "version": 3
   },
   "file_extension": ".py",
   "mimetype": "text/x-python",
   "name": "python",
   "nbconvert_exporter": "python",
   "pygments_lexer": "ipython3",
   "version": "3.6.8"
  }
 },
 "nbformat": 4,
 "nbformat_minor": 2
}
